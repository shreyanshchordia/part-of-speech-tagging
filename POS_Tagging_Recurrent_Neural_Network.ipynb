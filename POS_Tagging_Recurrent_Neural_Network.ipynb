{
  "nbformat": 4,
  "nbformat_minor": 0,
  "metadata": {
    "colab": {
      "name": "POS Tagging-Recurrent Neural Network",
      "provenance": [],
      "collapsed_sections": [],
      "machine_shape": "hm",
      "mount_file_id": "1OjHaTEYLi5PptOvne4xnA2GvC53XCokC",
      "authorship_tag": "ABX9TyNDkUW7Z96/HMlY8JunxCOI",
      "include_colab_link": true
    },
    "kernelspec": {
      "name": "python3",
      "display_name": "Python 3"
    }
  },
  "cells": [
    {
      "cell_type": "markdown",
      "metadata": {
        "id": "view-in-github",
        "colab_type": "text"
      },
      "source": [
        "<a href=\"https://colab.research.google.com/github/shreyanshchordia/pos-tagging-using-recurrent-neural-network/blob/master/POS_Tagging_Recurrent_Neural_Network.ipynb\" target=\"_parent\"><img src=\"https://colab.research.google.com/assets/colab-badge.svg\" alt=\"Open In Colab\"/></a>"
      ]
    },
    {
      "cell_type": "markdown",
      "metadata": {
        "id": "N7Z_zxFjdyPR",
        "colab_type": "text"
      },
      "source": [
        "#**Downloading required libraries**"
      ]
    },
    {
      "cell_type": "code",
      "metadata": {
        "id": "cuV2RkQDEUUZ",
        "colab_type": "code",
        "colab": {}
      },
      "source": [
        "# !pip install nltk\n",
        "# !pip install numpy\n",
        "# !pip install tensorflow\n",
        "# !pip install keras\n",
        "# !pip install sklearn\n",
        "# !pip install matplotlib\n",
        "# !pip install regex\n",
        "# !pip install mxnet\n",
        "# !pip install gluonnlp\n",
        "# !pip install random\n",
        "# !pip install h5py"
      ],
      "execution_count": 0,
      "outputs": []
    },
    {
      "cell_type": "markdown",
      "metadata": {
        "id": "hQ0QGWOAkUXN",
        "colab_type": "text"
      },
      "source": [
        "# **Downloading the dataset with pre tokenized sentences**"
      ]
    },
    {
      "cell_type": "code",
      "metadata": {
        "id": "s6DsH3yukQPX",
        "colab_type": "code",
        "outputId": "4948b89e-4c01-4301-bea5-2c5623f3c137",
        "colab": {
          "base_uri": "https://localhost:8080/",
          "height": 102
        }
      },
      "source": [
        "import nltk\n",
        "nltk.download('brown')\n",
        "nltk.download('universal_tagset')"
      ],
      "execution_count": 0,
      "outputs": [
        {
          "output_type": "stream",
          "text": [
            "[nltk_data] Downloading package brown to /root/nltk_data...\n",
            "[nltk_data]   Package brown is already up-to-date!\n",
            "[nltk_data] Downloading package universal_tagset to /root/nltk_data...\n",
            "[nltk_data]   Package universal_tagset is already up-to-date!\n"
          ],
          "name": "stdout"
        },
        {
          "output_type": "execute_result",
          "data": {
            "text/plain": [
              "True"
            ]
          },
          "metadata": {
            "tags": []
          },
          "execution_count": 41
        }
      ]
    },
    {
      "cell_type": "markdown",
      "metadata": {
        "id": "p7x_Bb4Kkixz",
        "colab_type": "text"
      },
      "source": [
        "# **Importing libraries and modules**"
      ]
    },
    {
      "cell_type": "code",
      "metadata": {
        "id": "oBhzGJiCvBod",
        "colab_type": "code",
        "colab": {}
      },
      "source": [
        "import random\n",
        "import numpy as np\n",
        "from nltk.corpus import brown\n",
        "from mxnet import gluon\n",
        "from mxnet import nd\n",
        "import gluonnlp as nlp_\n",
        "import re\n",
        "nlp_.utils.check_version('0.7.0')\n",
        "from nltk.tokenize import RegexpTokenizer\n",
        "\n",
        "from keras import backend as K\n",
        "from keras.preprocessing.sequence import pad_sequences\n",
        "from keras.models import Sequential\n",
        "from keras.models import Model\n",
        "from keras.layers import Dense, LSTM, InputLayer, Bidirectional, TimeDistributed,Embedding, Activation,Flatten,Bidirectional,Input,concatenate\n",
        "from keras.optimizers import Adam\n",
        "from keras.utils import plot_model\n",
        "from keras.utils.np_utils import to_categorical\n",
        "from sklearn.model_selection import train_test_split\n",
        "import matplotlib.pyplot as plt"
      ],
      "execution_count": 0,
      "outputs": []
    },
    {
      "cell_type": "markdown",
      "metadata": {
        "id": "zlzF0ZLHlsFW",
        "colab_type": "text"
      },
      "source": [
        "# **Loading and examining the dataset**"
      ]
    },
    {
      "cell_type": "code",
      "metadata": {
        "id": "UU8hc-kY0ZTr",
        "colab_type": "code",
        "outputId": "32f069b0-d471-493b-b02f-67f40b0949c5",
        "colab": {
          "base_uri": "https://localhost:8080/",
          "height": 34
        }
      },
      "source": [
        "dataset = brown.tagged_sents(tagset='universal')\n",
        "print(\"Number of sentences in dataset-\",len(dataset))"
      ],
      "execution_count": 0,
      "outputs": [
        {
          "output_type": "stream",
          "text": [
            "Number of sentences in dataset- 57340\n"
          ],
          "name": "stdout"
        }
      ]
    },
    {
      "cell_type": "code",
      "metadata": {
        "id": "9hpAZz122T98",
        "colab_type": "code",
        "outputId": "46a70937-381e-4e4d-a9c2-37934ad94a07",
        "colab": {
          "base_uri": "https://localhost:8080/",
          "height": 54
        }
      },
      "source": [
        "print(random.choice(dataset))"
      ],
      "execution_count": 0,
      "outputs": [
        {
          "output_type": "stream",
          "text": [
            "[('At', 'ADP'), ('last', 'ADJ'), (',', '.'), ('when', 'ADV'), ('I', 'PRON'), ('put', 'VERB'), ('it', 'PRON'), ('to', 'ADP'), ('him', 'PRON'), ('directly', 'ADV'), (',', '.'), ('the', 'DET'), ('clerk', 'NOUN'), ('was', 'VERB'), ('forced', 'VERB'), ('to', 'PRT'), ('admit', 'VERB'), ('that', 'ADP'), ('the', 'DET'), ('delay', 'NOUN'), ('in', 'ADP'), ('my', 'DET'), ('case', 'NOUN'), ('was', 'VERB'), ('unusual', 'ADJ'), ('.', '.')]\n"
          ],
          "name": "stdout"
        }
      ]
    },
    {
      "cell_type": "code",
      "metadata": {
        "colab_type": "code",
        "id": "eQduXirmy2hh",
        "colab": {}
      },
      "source": [
        "sentence_dataset = []\n",
        "tag_dataset = []\n",
        "for sentence in dataset:\n",
        "    sent_list = []\n",
        "    tag_list = []\n",
        "    for tagged_word in sentence:\n",
        "        sent_list.append(tagged_word[0])\n",
        "        tag_list.append(tagged_word[1])\n",
        "    sentence_dataset.append(sent_list)\n",
        "    tag_dataset.append(tag_list)"
      ],
      "execution_count": 0,
      "outputs": []
    },
    {
      "cell_type": "markdown",
      "metadata": {
        "id": "dyJnag-ZmZ5g",
        "colab_type": "text"
      },
      "source": [
        "**Note** - The next cell removes sentences having the tag 'X'.\n",
        "\n",
        "In case you do not want to train your model on unknown tag 'X'.\n",
        "\n",
        "I prefered to keep my model robust so that it can deal with gibberish sentences in a better way."
      ]
    },
    {
      "cell_type": "code",
      "metadata": {
        "colab_type": "code",
        "id": "t88kOg_uy3B2",
        "colab": {}
      },
      "source": [
        "# to_be_removed_indexes = []\n",
        "# for i,tag_list in enumerate(tag_dataset):\n",
        "#     for tag in tag_list:\n",
        "#         if tag=='X':\n",
        "#             to_be_removed_indexes.append(i)\n",
        "#             break\n",
        "\n",
        "# sentence_dataset = [sent for i,sent in enumerate(sentence_dataset) if i not in to_be_removed_indexes]\n",
        "# tag_dataset = [sent for i,sent in enumerate(tag_dataset) if i not in to_be_removed_indexes]"
      ],
      "execution_count": 0,
      "outputs": []
    },
    {
      "cell_type": "code",
      "metadata": {
        "id": "szGNXqnkkA3t",
        "colab_type": "code",
        "outputId": "0c94a8db-c1f7-42aa-842e-c08f569f6417",
        "colab": {
          "base_uri": "https://localhost:8080/",
          "height": 122
        }
      },
      "source": [
        "rand = random.randint(0,len(sentence_dataset))\n",
        "print(\"Random tokenized sentence from the dataset-\",sentence_dataset[rand])\n",
        "print(\"\\nTags for the same random tokenized sentence from the dataset-\",tag_dataset[rand])\n",
        "print(\"\\nLength of our dataset-\",len(sentence_dataset))"
      ],
      "execution_count": 0,
      "outputs": [
        {
          "output_type": "stream",
          "text": [
            "Random tokenized sentence from the dataset- ['By', 'all', 'means', 'the', 'most', 'important', 'distinction', 'is', 'that', 'between', 'those', 'total-cost', 'apportionments', 'which', 'superimpose', 'a', 'distribution', 'of', 'admittedly', 'unallocable', 'cost', 'residues', 'on', 'estimates', 'of', 'incremental', 'or', 'marginal', 'costs', ',', 'and', 'those', 'other', 'apportionments', 'which', 'recognize', 'no', 'difference', 'between', 'true', 'cost', 'allocation', 'and', 'mere', 'total-cost', 'distribution', '.']\n",
            "\n",
            "Tags for the same random tokenized sentence from the dataset- ['ADP', 'PRT', 'NOUN', 'DET', 'ADV', 'ADJ', 'NOUN', 'VERB', 'DET', 'ADP', 'DET', 'NOUN', 'NOUN', 'DET', 'VERB', 'DET', 'NOUN', 'ADP', 'ADV', 'ADJ', 'NOUN', 'NOUN', 'ADP', 'NOUN', 'ADP', 'ADJ', 'CONJ', 'ADJ', 'NOUN', '.', 'CONJ', 'DET', 'ADJ', 'NOUN', 'DET', 'VERB', 'DET', 'NOUN', 'ADP', 'ADJ', 'NOUN', 'NOUN', 'CONJ', 'ADJ', 'NOUN', 'NOUN', '.']\n",
            "\n",
            "Length of our dataset- 57340\n"
          ],
          "name": "stdout"
        }
      ]
    },
    {
      "cell_type": "markdown",
      "metadata": {
        "id": "8ZTd0WAnm6BF",
        "colab_type": "text"
      },
      "source": [
        "# **Loading the pre trained embeddings of words**"
      ]
    },
    {
      "cell_type": "code",
      "metadata": {
        "id": "5FFsAhMpno0d",
        "colab_type": "code",
        "outputId": "2f9f1bf0-d810-41f4-b7c3-916b600f720e",
        "colab": {
          "base_uri": "https://localhost:8080/",
          "height": 187
        }
      },
      "source": [
        "nlp_.embedding.list_sources('glove')"
      ],
      "execution_count": 0,
      "outputs": [
        {
          "output_type": "execute_result",
          "data": {
            "text/plain": [
              "['glove.42B.300d',\n",
              " 'glove.6B.100d',\n",
              " 'glove.6B.200d',\n",
              " 'glove.6B.300d',\n",
              " 'glove.6B.50d',\n",
              " 'glove.840B.300d',\n",
              " 'glove.twitter.27B.100d',\n",
              " 'glove.twitter.27B.200d',\n",
              " 'glove.twitter.27B.25d',\n",
              " 'glove.twitter.27B.50d']"
            ]
          },
          "metadata": {
            "tags": []
          },
          "execution_count": 47
        }
      ]
    },
    {
      "cell_type": "code",
      "metadata": {
        "id": "FzTR0v8rE0J2",
        "colab_type": "code",
        "colab": {}
      },
      "source": [
        "glove_6b50d = nlp_.embedding.create('glove', source='glove.6B.50d')"
      ],
      "execution_count": 0,
      "outputs": []
    },
    {
      "cell_type": "code",
      "metadata": {
        "id": "HbGkWUTAFz0g",
        "colab_type": "code",
        "colab": {}
      },
      "source": [
        "emb = nlp_.Vocab(nlp_.data.Counter(glove_6b50d.idx_to_token))\n",
        "emb.set_embedding(glove_6b50d)"
      ],
      "execution_count": 0,
      "outputs": []
    },
    {
      "cell_type": "code",
      "metadata": {
        "id": "Q-KjCibOGCXu",
        "colab_type": "code",
        "outputId": "9a85bd3e-3d56-4cde-9958-0b022d1e6a88",
        "colab": {
          "base_uri": "https://localhost:8080/",
          "height": 34
        }
      },
      "source": [
        "len(emb.idx_to_token)"
      ],
      "execution_count": 0,
      "outputs": [
        {
          "output_type": "execute_result",
          "data": {
            "text/plain": [
              "400004"
            ]
          },
          "metadata": {
            "tags": []
          },
          "execution_count": 50
        }
      ]
    },
    {
      "cell_type": "code",
      "metadata": {
        "id": "3V5O-Oz0GGxk",
        "colab_type": "code",
        "outputId": "6e07e8d1-ccf7-4515-9881-56870032658b",
        "colab": {
          "base_uri": "https://localhost:8080/",
          "height": 306
        }
      },
      "source": [
        "print(emb['man'])\n",
        "print(emb.idx_to_token[232539])\n",
        "print(emb.embedding['dhfbhnv']) # handles unkown words as well\n",
        "print(emb.embedding['man'])"
      ],
      "execution_count": 0,
      "outputs": [
        {
          "output_type": "stream",
          "text": [
            "232539\n",
            "man\n",
            "\n",
            "[0. 0. 0. 0. 0. 0. 0. 0. 0. 0. 0. 0. 0. 0. 0. 0. 0. 0. 0. 0. 0. 0. 0. 0.\n",
            " 0. 0. 0. 0. 0. 0. 0. 0. 0. 0. 0. 0. 0. 0. 0. 0. 0. 0. 0. 0. 0. 0. 0. 0.\n",
            " 0. 0.]\n",
            "<NDArray 50 @cpu(0)>\n",
            "\n",
            "[-0.094386  0.43007  -0.17224  -0.45529   1.6447    0.40335  -0.37263\n",
            "  0.25071  -0.10588   0.10778  -0.10848   0.15181  -0.65396   0.55054\n",
            "  0.59591  -0.46278   0.11847   0.64448  -0.70948   0.23947  -0.82905\n",
            "  1.272     0.033021  0.2935    0.3911   -2.8094   -0.70745   0.4106\n",
            "  0.3894   -0.2913    2.6124   -0.34576  -0.16832   0.25154   0.31216\n",
            "  0.31639   0.12539  -0.012646  0.22297  -0.56585  -0.086264  0.62549\n",
            " -0.0576    0.29375   0.66005  -0.53115  -0.48233  -0.97925   0.53135\n",
            " -0.11725 ]\n",
            "<NDArray 50 @cpu(0)>\n"
          ],
          "name": "stdout"
        }
      ]
    },
    {
      "cell_type": "markdown",
      "metadata": {
        "id": "ZxjPdDYfpDdc",
        "colab_type": "text"
      },
      "source": [
        "# **Making embedding matrix over the entire vocabulary of 4,00,004 words**"
      ]
    },
    {
      "cell_type": "markdown",
      "metadata": {
        "id": "BqnTU1LxpvNi",
        "colab_type": "text"
      },
      "source": [
        "This matrix matches indexes of the words to their embeddings\n",
        "\n",
        "For example:\n",
        "\n",
        "    embedding_matrix[0] = embeddings of the word '<unk>'\n",
        "    embedding_matrix[232539] = embeddings of the word 'man'\n"
      ]
    },
    {
      "cell_type": "code",
      "metadata": {
        "id": "pHsel8ARGZZs",
        "colab_type": "code",
        "colab": {}
      },
      "source": [
        "embedding_matrix = []\n",
        "for i,word in enumerate(emb.idx_to_token):\n",
        "    embedding_matrix.append(emb.embedding[word].asnumpy())"
      ],
      "execution_count": 0,
      "outputs": []
    },
    {
      "cell_type": "code",
      "metadata": {
        "id": "EJH5ecy7MmKB",
        "colab_type": "code",
        "outputId": "fca50cb7-1e16-4aaf-f4b8-b9e1d2029c1a",
        "colab": {
          "base_uri": "https://localhost:8080/",
          "height": 34
        }
      },
      "source": [
        "embedding_matrix = np.asarray(embedding_matrix)\n",
        "print(embedding_matrix.shape)"
      ],
      "execution_count": 0,
      "outputs": [
        {
          "output_type": "stream",
          "text": [
            "(400004, 50)\n"
          ],
          "name": "stdout"
        }
      ]
    },
    {
      "cell_type": "markdown",
      "metadata": {
        "id": "g5JNEvr3qty-",
        "colab_type": "text"
      },
      "source": [
        "# **Removing 'long' sentences from the dataset and keeping the maximum length == 50**"
      ]
    },
    {
      "cell_type": "code",
      "metadata": {
        "id": "AFC7iF3d0D1Z",
        "colab_type": "code",
        "colab": {}
      },
      "source": [
        "to_be_removed_indexes = []\n",
        "for i,sentence in enumerate(sentence_dataset):\n",
        "    if(len(sentence)>50): to_be_removed_indexes.append(i)\n",
        "\n",
        "sentence_dataset = [sent for i,sent in enumerate(sentence_dataset) if i not in to_be_removed_indexes]\n",
        "tag_dataset = [sent for i,sent in enumerate(tag_dataset) if i not in to_be_removed_indexes]"
      ],
      "execution_count": 0,
      "outputs": []
    },
    {
      "cell_type": "markdown",
      "metadata": {
        "id": "gZuMI-F-rElx",
        "colab_type": "text"
      },
      "source": [
        "# **Adding <eos<x>> at the ends of all sentences and hence the new tag 'EOS'**"
      ]
    },
    {
      "cell_type": "code",
      "metadata": {
        "id": "Euy-ZxllNf37",
        "colab_type": "code",
        "colab": {}
      },
      "source": [
        "for sentence in  sentence_dataset:\n",
        "    sentence.append('<eos>')\n",
        "for tag_list in tag_dataset:\n",
        "    tag_list.append('EOS')"
      ],
      "execution_count": 0,
      "outputs": []
    },
    {
      "cell_type": "markdown",
      "metadata": {
        "id": "8Uvk1bA9uIrB",
        "colab_type": "text"
      },
      "source": [
        "**Note** - Due to addition of `<eos>` in all sentences the maximum length becomes 51"
      ]
    },
    {
      "cell_type": "markdown",
      "metadata": {
        "id": "9RdcIGY4tss0",
        "colab_type": "text"
      },
      "source": [
        "## **Padding all the sentences to `MAX_LENGTH` with <pad<x>> and hence the new tag 'PAD'**"
      ]
    },
    {
      "cell_type": "markdown",
      "metadata": {
        "id": "GciJ-JyRs79m",
        "colab_type": "text"
      },
      "source": [
        "`MAX_LENGTH` : Maximum number of time steps"
      ]
    },
    {
      "cell_type": "code",
      "metadata": {
        "id": "IlBR8l4v3Fnh",
        "colab_type": "code",
        "outputId": "52153ded-1863-426a-b231-ab6dcc1a413b",
        "colab": {
          "base_uri": "https://localhost:8080/",
          "height": 34
        }
      },
      "source": [
        "MAX_LENGTH = np.max(np.asarray([len(s) for s in sentence_dataset]))\n",
        "print(MAX_LENGTH)"
      ],
      "execution_count": 0,
      "outputs": [
        {
          "output_type": "stream",
          "text": [
            "51\n"
          ],
          "name": "stdout"
        }
      ]
    },
    {
      "cell_type": "code",
      "metadata": {
        "id": "eCQtZFyg3MzA",
        "colab_type": "code",
        "colab": {}
      },
      "source": [
        "padded_sent_dataset = pad_sequences(sequences=sentence_dataset,dtype=object,maxlen=MAX_LENGTH,padding='post',value='<pad>')\n",
        "padded_tag_dataset = pad_sequences(sequences=tag_dataset,dtype=object,maxlen=MAX_LENGTH,padding='post',value='PAD')"
      ],
      "execution_count": 0,
      "outputs": []
    },
    {
      "cell_type": "code",
      "metadata": {
        "id": "1ubdmgqq50WH",
        "colab_type": "code",
        "outputId": "505ef984-fba0-4fca-f6ee-93c65ce0f190",
        "colab": {
          "base_uri": "https://localhost:8080/",
          "height": 221
        }
      },
      "source": [
        "print(random.choice(padded_sent_dataset))\n",
        "print(\"\\n\",random.choice(padded_tag_dataset))"
      ],
      "execution_count": 0,
      "outputs": [
        {
          "output_type": "stream",
          "text": [
            "['He' 'is' 'appreciative' 'of' 'the' 'expert' 'help' 'available' 'to'\n",
            " 'him' 'and' 'draws' 'these' 'resources' 'into' 'play' ',' 'taking' 'care'\n",
            " 'to' 'examine' 'at' 'least' 'some' 'of' 'the' 'raw' 'material' 'which'\n",
            " 'underlies' 'their' 'frequently' 'policy-oriented' 'conclusions' '.'\n",
            " '<eos>' '<pad>' '<pad>' '<pad>' '<pad>' '<pad>' '<pad>' '<pad>' '<pad>'\n",
            " '<pad>' '<pad>' '<pad>' '<pad>' '<pad>' '<pad>' '<pad>']\n",
            "\n",
            " ['NOUN' 'ADP' 'NOUN' 'CONJ' 'NOUN' 'VERB' 'DET' 'NOUN' 'ADP' 'DET' 'VERB'\n",
            " 'CONJ' 'DET' 'NOUN' '.' 'EOS' 'PAD' 'PAD' 'PAD' 'PAD' 'PAD' 'PAD' 'PAD'\n",
            " 'PAD' 'PAD' 'PAD' 'PAD' 'PAD' 'PAD' 'PAD' 'PAD' 'PAD' 'PAD' 'PAD' 'PAD'\n",
            " 'PAD' 'PAD' 'PAD' 'PAD' 'PAD' 'PAD' 'PAD' 'PAD' 'PAD' 'PAD' 'PAD' 'PAD'\n",
            " 'PAD' 'PAD' 'PAD' 'PAD']\n"
          ],
          "name": "stdout"
        }
      ]
    },
    {
      "cell_type": "markdown",
      "metadata": {
        "id": "P_gnHvWRurmL",
        "colab_type": "text"
      },
      "source": [
        "# **Turning the sentences and tags to Model accepting values**"
      ]
    },
    {
      "cell_type": "code",
      "metadata": {
        "id": "trahe-Ka7Z-x",
        "colab_type": "code",
        "colab": {}
      },
      "source": [
        "dataset = padded_sent_dataset.copy()\n",
        "for sentence in dataset:\n",
        "    for i in range(MAX_LENGTH):\n",
        "        sentence[i] = emb[sentence[i].lower()]"
      ],
      "execution_count": 0,
      "outputs": []
    },
    {
      "cell_type": "code",
      "metadata": {
        "id": "aab33GyjRKfN",
        "colab_type": "code",
        "outputId": "b14b7cf5-0048-47d5-bbe1-974cec01960a",
        "colab": {
          "base_uri": "https://localhost:8080/",
          "height": 170
        }
      },
      "source": [
        "print(random.choice(padded_sent_dataset))\n",
        "print(\"\\n\",random.choice(dataset))"
      ],
      "execution_count": 0,
      "outputs": [
        {
          "output_type": "stream",
          "text": [
            "['Along' 'the' '127-mile' 'route' 'through' 'Great' 'Smoky' 'Mountains'\n",
            " 'National' 'Park' 'you' 'can' 'photograph' 'the' 'breath-taking' 'peaks'\n",
            " ',' 'gorges' 'and' 'valleys' 'which' 'come' 'into' 'view' 'at' 'every'\n",
            " 'turn' '.' '<eos>' '<pad>' '<pad>' '<pad>' '<pad>' '<pad>' '<pad>'\n",
            " '<pad>' '<pad>' '<pad>' '<pad>' '<pad>' '<pad>' '<pad>' '<pad>' '<pad>'\n",
            " '<pad>' '<pad>' '<pad>' '<pad>' '<pad>' '<pad>' '<pad>']\n",
            "\n",
            " [2482 455 357269 61774 268049 357269 247381 3 1 1 1 1 1 1 1 1 1 1 1 1 1 1\n",
            " 1 1 1 1 1 1 1 1 1 1 1 1 1 1 1 1 1 1 1 1 1 1 1 1 1 1 1 1 1]\n"
          ],
          "name": "stdout"
        }
      ]
    },
    {
      "cell_type": "code",
      "metadata": {
        "id": "cVa8F9ndXGcV",
        "colab_type": "code",
        "outputId": "57eb039c-95ab-4b1f-c292-5d99dcd141e0",
        "colab": {
          "base_uri": "https://localhost:8080/",
          "height": 68
        }
      },
      "source": [
        "set_of_tags = set()\n",
        "for tag_list in padded_tag_dataset:\n",
        "    for tag in tag_list:\n",
        "        set_of_tags.add(tag)\n",
        "print(\"Tags :\", set_of_tags,\"\\n\\nLength of the set :\",len(set_of_tags))"
      ],
      "execution_count": 0,
      "outputs": [
        {
          "output_type": "stream",
          "text": [
            "Tags : {'DET', 'NOUN', 'ADJ', 'ADV', 'ADP', 'VERB', 'PRON', 'CONJ', 'EOS', 'PAD', 'PRT', '.', 'NUM', 'X'} \n",
            "\n",
            "Length of the set : 14\n"
          ],
          "name": "stdout"
        }
      ]
    },
    {
      "cell_type": "code",
      "metadata": {
        "id": "yTSOJoZKlYEd",
        "colab_type": "code",
        "colab": {}
      },
      "source": [
        "dict_of_tags = {tag: i for i,tag in enumerate(sorted(set_of_tags))}\n",
        "id2tag = {i: tag for i,tag in enumerate(sorted(set_of_tags))}"
      ],
      "execution_count": 0,
      "outputs": []
    },
    {
      "cell_type": "code",
      "metadata": {
        "id": "gIaohHd6ev47",
        "colab_type": "code",
        "outputId": "beb5928e-a3ad-44d6-b626-fc269d43f128",
        "colab": {
          "base_uri": "https://localhost:8080/",
          "height": 34
        }
      },
      "source": [
        "output_dataset = [] \n",
        "for tag_list in padded_tag_dataset:\n",
        "    temp = []\n",
        "    for tag in tag_list:\n",
        "        temp.append(dict_of_tags[tag])\n",
        "    output_dataset.append(np.asarray(temp))\n",
        "output_dataset = np.asarray(output_dataset)\n",
        "print(output_dataset.shape)"
      ],
      "execution_count": 0,
      "outputs": [
        {
          "output_type": "stream",
          "text": [
            "(55708, 51)\n"
          ],
          "name": "stdout"
        }
      ]
    },
    {
      "cell_type": "code",
      "metadata": {
        "id": "fydtbmhR0pPb",
        "colab_type": "code",
        "outputId": "888dc09f-4692-4b35-cd9f-d7d665ac921c",
        "colab": {
          "base_uri": "https://localhost:8080/",
          "height": 34
        }
      },
      "source": [
        "output_dataset = to_categorical(output_dataset, num_classes=len(dict_of_tags))\n",
        "print(output_dataset.shape)"
      ],
      "execution_count": 0,
      "outputs": [
        {
          "output_type": "stream",
          "text": [
            "(55708, 51, 14)\n"
          ],
          "name": "stdout"
        }
      ]
    },
    {
      "cell_type": "markdown",
      "metadata": {
        "id": "BSzjulNCxQkJ",
        "colab_type": "text"
      },
      "source": [
        "# **Seperating the dataset into Training and Testing set**"
      ]
    },
    {
      "cell_type": "code",
      "metadata": {
        "id": "uRgIFiJYpX6Y",
        "colab_type": "code",
        "outputId": "4f51da4c-895b-468d-a0cd-0ea4b91a205b",
        "colab": {
          "base_uri": "https://localhost:8080/",
          "height": 34
        }
      },
      "source": [
        "X_train,X_test,Y_train,Y_test = train_test_split(dataset,output_dataset,test_size=0.3,shuffle=True)\n",
        "print(X_train.shape,X_test.shape,Y_train.shape,Y_test.shape)"
      ],
      "execution_count": 0,
      "outputs": [
        {
          "output_type": "stream",
          "text": [
            "(38995, 51) (16713, 51) (38995, 51, 14) (16713, 51, 14)\n"
          ],
          "name": "stdout"
        }
      ]
    },
    {
      "cell_type": "markdown",
      "metadata": {
        "id": "CGSzfBGcyaYV",
        "colab_type": "text"
      },
      "source": [
        "# **Initializing helping functions**"
      ]
    },
    {
      "cell_type": "code",
      "metadata": {
        "id": "l02X7vATJSVH",
        "colab_type": "code",
        "colab": {}
      },
      "source": [
        "def ignore_class_accuracy(to_ignore=0):\n",
        "    def ignore_accuracy(y_true, y_pred):\n",
        "        y_true_class = K.argmax(y_true, axis=-1)\n",
        "        y_pred_class = K.argmax(y_pred, axis=-1)\n",
        "\n",
        "        ignore_mask = K.cast(K.not_equal(y_pred_class, to_ignore), 'int32')\n",
        "        matches = K.cast(K.equal(y_true_class, y_pred_class), 'int32') * ignore_mask\n",
        "        accuracy = K.sum(matches) / K.maximum(K.sum(ignore_mask), 1)\n",
        "        return accuracy\n",
        "\n",
        "    return ignore_accuracy\n",
        "\n",
        "################################################################################\n",
        "\n",
        "tokenizer = RegexpTokenizer('\\w+|\\$[\\d\\.]+|\\S+')\n",
        "\n",
        "def preprocessing(sentence,MAX_LEN):\n",
        "    if(type(sentence)=='str'):\n",
        "        sentence = tokenizer.tokenize(sentence)\n",
        "    sentence.append('<eos>')\n",
        "    sequence = [sentence]\n",
        "    sequence = pad_sequences(sequences=sequence,dtype=object,maxlen=MAX_LENGTH,padding='post',value='<pad>')\n",
        "    for sentence in sequence:\n",
        "        for i in range(MAX_LEN):\n",
        "            sentence[i] = emb[sentence[i].lower()]\n",
        "\n",
        "    return sequence\n",
        "        \n",
        "################################################################################\n",
        "\n",
        "def predict(model,sentence):\n",
        "    sentence = preprocessing(sentence,MAX_LENGTH)\n",
        "    pred = model.predict(sentence)\n",
        "    pred = pred[0]\n",
        "\n",
        "    output = []\n",
        "    for i,tag in enumerate(pred):\n",
        "        id = np.argmax(tag)\n",
        "        if(id==9): break\n",
        "        output.append(id2tag[id])\n",
        "\n",
        "    return output \n",
        "\n",
        "################################################################################\n",
        "\n",
        "def plot_model_history(model,history):\n",
        "    # summarize history for accuracy\n",
        "    plt.figure(figsize=(10,8))\n",
        "    plt.plot(history.history['ignore_accuracy'])\n",
        "    plt.plot(history.history['val_ignore_accuracy'])\n",
        "    plt.title('model accuracy')\n",
        "    plt.ylabel('accuracy')\n",
        "    plt.xlabel('epoch')\n",
        "    plt.legend(['train', 'test'], loc='upper left')\n",
        "    plt.show()\n",
        "    # summarize history for loss\n",
        "    plt.figure(figsize=(10,8))\n",
        "    plt.plot(history.history['loss'])\n",
        "    plt.plot(history.history['val_loss'])\n",
        "    plt.title('model loss')\n",
        "    plt.ylabel('loss')\n",
        "    plt.xlabel('epoch')\n",
        "    plt.legend(['train', 'test'], loc='upper left')\n",
        "    plt.show()\n",
        "    \n",
        "################################################################################\n",
        "\n",
        "# ~~~~~~~~~~~~~~~~~~ Following functions are for model3 ~~~~~~~~~~~~~~~~~~~~~~ #\n",
        "\n",
        "def predict_v2(model,sentence,index):\n",
        "    f_input = feature_map[index]\n",
        "    f_input = f_input.reshape(-1,f_input.shape[0],f_input.shape[1])\n",
        "    sentence = preprocessing(sentence,MAX_LENGTH)\n",
        "    pred = model.predict([sentence,f_input])\n",
        "    pred = pred[0]\n",
        "\n",
        "    output = []\n",
        "    for i,tag in enumerate(pred):\n",
        "        id = np.argmax(tag)\n",
        "        if(id==9): break\n",
        "        output.append(id2tag[id])\n",
        "\n",
        "    return output\n",
        "\n",
        "################################################################################\n",
        "\n",
        "def get_features(sentence):\n",
        "    '''\n",
        "    In features we will have:\n",
        "    1) Boolean value for: Is token the first index?\n",
        "    2) Boolean value for: Is token the last index?\n",
        "    3) Boolean value for: Is token in CAPS?\n",
        "    4) Boolean value for: Is first character in CAPS?\n",
        "    5) Boolean value for: Is first character a number?\n",
        "    6) Boolean value for: Is token a symbol?\n",
        "    '''\n",
        "    sentence_features = []\n",
        "    for index,word in enumerate(sentence):\n",
        "        feature_list = []\n",
        "        # converting the MXnet array to numpy and then appending it to the feature list\n",
        "        if(word=='<pad>' or word=='<eos>'): feature_list += [0,0,0,0,0,0]\n",
        "        else:\n",
        "            feature_list.append(int(index==0))\n",
        "            feature_list.append(int(index==len(sentence)-1))\n",
        "            feature_list.append(int(word.isalpha() and word.upper()==word))\n",
        "            feature_list.append(int(word.isalpha() and word[0].upper()==word[0]))\n",
        "            feature_list.append(int(word[0].isnumeric()))\n",
        "            feature_list.append(int(word[0] in ['!','@','#','$','%','^','&','*','(',')',';',\n",
        "                                                '\"',\"'\",':','{','}','[',']','-','_','+','=',\n",
        "                                                '~','``','`','.',',','/','?','<','>','|']))\n",
        "        sentence_features.append(feature_list)\n",
        "    \n",
        "    return (np.asarray(sentence_features)).reshape(-1,6)\n",
        "\n",
        "################################################################################\n"
      ],
      "execution_count": 0,
      "outputs": []
    },
    {
      "cell_type": "markdown",
      "metadata": {
        "id": "7w_pM71g2uC4",
        "colab_type": "text"
      },
      "source": [
        "# **Different models, their training and evaluation**"
      ]
    },
    {
      "cell_type": "markdown",
      "metadata": {
        "id": "iIQTxY5Hz7IR",
        "colab_type": "text"
      },
      "source": [
        "## **Uni-directional single layer LSTM model**"
      ]
    },
    {
      "cell_type": "code",
      "metadata": {
        "id": "dpe6XUd6V6-g",
        "colab_type": "code",
        "outputId": "d3ebabf8-e21d-4ad0-9a58-4f3399f16402",
        "colab": {
          "base_uri": "https://localhost:8080/",
          "height": 255
        }
      },
      "source": [
        "model1 = Sequential(name=\"Uni directional single layer LSTM\")\n",
        "#model1.add(InputLayer(input_shape=(MAX_LENGTH,)))\n",
        "model1.add(Embedding(input_dim=embedding_matrix.shape[0],output_dim=embedding_matrix.shape[1],\n",
        "                    weights=[embedding_matrix],trainable=False,input_length=MAX_LENGTH,name='embedding_1'))\n",
        "model1.add(LSTM(64, return_sequences=True,name='lstm_1'))\n",
        "model1.add(TimeDistributed(Dense(len(dict_of_tags),activation='softmax',name='dense_1'),name='timedist_1'))\n",
        "model1.compile(loss='categorical_crossentropy',\n",
        "              optimizer=Adam(),\n",
        "              metrics=['accuracy',ignore_class_accuracy(9)])\n",
        "\n",
        "model1.summary()"
      ],
      "execution_count": 0,
      "outputs": [
        {
          "output_type": "stream",
          "text": [
            "Model: \"Uni directional single layer LSTM\"\n",
            "_________________________________________________________________\n",
            "Layer (type)                 Output Shape              Param #   \n",
            "=================================================================\n",
            "embedding_1 (Embedding)      (None, 51, 50)            20000200  \n",
            "_________________________________________________________________\n",
            "lstm_1 (LSTM)                (None, 51, 64)            29440     \n",
            "_________________________________________________________________\n",
            "timedist_1 (TimeDistributed) (None, 51, 14)            910       \n",
            "=================================================================\n",
            "Total params: 20,030,550\n",
            "Trainable params: 30,350\n",
            "Non-trainable params: 20,000,200\n",
            "_________________________________________________________________\n"
          ],
          "name": "stdout"
        }
      ]
    },
    {
      "cell_type": "code",
      "metadata": {
        "id": "sFjL1AnbxP3l",
        "colab_type": "code",
        "outputId": "d3055cb3-5fbf-45e1-feac-ccdfc3bf1ecc",
        "colab": {
          "base_uri": "https://localhost:8080/",
          "height": 369
        }
      },
      "source": [
        "plot_model(model1)"
      ],
      "execution_count": 0,
      "outputs": [
        {
          "output_type": "execute_result",
          "data": {
            "image/png": "[encoded data removed]",
            "text/plain": [
              "<IPython.core.display.Image object>"
            ]
          },
          "metadata": {
            "tags": []
          },
          "execution_count": 66
        }
      ]
    },
    {
      "cell_type": "markdown",
      "metadata": {
        "id": "WoZ2yKV83Vmu",
        "colab_type": "text"
      },
      "source": [
        "### Training"
      ]
    },
    {
      "cell_type": "code",
      "metadata": {
        "id": "J-4T4F0Qn6ay",
        "colab_type": "code",
        "outputId": "0add56bb-d9f9-49b6-bafe-22a55b9f7492",
        "colab": {
          "base_uri": "https://localhost:8080/",
          "height": 734
        }
      },
      "source": [
        "history1 = model1.fit(X_train,Y_train,epochs=20,batch_size=128,validation_split=0.2,verbose=1)"
      ],
      "execution_count": 0,
      "outputs": [
        {
          "output_type": "stream",
          "text": [
            "Train on 31196 samples, validate on 7799 samples\n",
            "Epoch 1/20\n",
            "31196/31196 [==============================] - 18s 565us/step - loss: 0.8071 - accuracy: 0.7846 - ignore_accuracy: 0.4869 - val_loss: 0.4308 - val_accuracy: 0.8709 - val_ignore_accuracy: 0.6769\n",
            "Epoch 2/20\n",
            "31196/31196 [==============================] - 17s 550us/step - loss: 0.3361 - accuracy: 0.8980 - ignore_accuracy: 0.7424 - val_loss: 0.2816 - val_accuracy: 0.9138 - val_ignore_accuracy: 0.7829\n",
            "Epoch 3/20\n",
            "31196/31196 [==============================] - 17s 553us/step - loss: 0.2462 - accuracy: 0.9254 - ignore_accuracy: 0.8111 - val_loss: 0.2226 - val_accuracy: 0.9324 - val_ignore_accuracy: 0.8293\n",
            "Epoch 4/20\n",
            "31196/31196 [==============================] - 17s 545us/step - loss: 0.2010 - accuracy: 0.9385 - ignore_accuracy: 0.8440 - val_loss: 0.1874 - val_accuracy: 0.9420 - val_ignore_accuracy: 0.8536\n",
            "Epoch 5/20\n",
            "31196/31196 [==============================] - 17s 542us/step - loss: 0.1723 - accuracy: 0.9463 - ignore_accuracy: 0.8637 - val_loss: 0.1641 - val_accuracy: 0.9488 - val_ignore_accuracy: 0.8707\n",
            "Epoch 6/20\n",
            "31196/31196 [==============================] - 17s 545us/step - loss: 0.1527 - accuracy: 0.9521 - ignore_accuracy: 0.8785 - val_loss: 0.1479 - val_accuracy: 0.9535 - val_ignore_accuracy: 0.8826\n",
            "Epoch 7/20\n",
            "31196/31196 [==============================] - 17s 555us/step - loss: 0.1386 - accuracy: 0.9560 - ignore_accuracy: 0.8883 - val_loss: 0.1357 - val_accuracy: 0.9568 - val_ignore_accuracy: 0.8909\n",
            "Epoch 8/20\n",
            "31196/31196 [==============================] - 17s 556us/step - loss: 0.1277 - accuracy: 0.9590 - ignore_accuracy: 0.8958 - val_loss: 0.1263 - val_accuracy: 0.9590 - val_ignore_accuracy: 0.8965\n",
            "Epoch 9/20\n",
            "31196/31196 [==============================] - 17s 553us/step - loss: 0.1189 - accuracy: 0.9614 - ignore_accuracy: 0.9019 - val_loss: 0.1184 - val_accuracy: 0.9610 - val_ignore_accuracy: 0.9014\n",
            "Epoch 10/20\n",
            "31196/31196 [==============================] - 17s 552us/step - loss: 0.1115 - accuracy: 0.9633 - ignore_accuracy: 0.9069 - val_loss: 0.1118 - val_accuracy: 0.9629 - val_ignore_accuracy: 0.9063\n",
            "Epoch 11/20\n",
            "31196/31196 [==============================] - 17s 546us/step - loss: 0.1053 - accuracy: 0.9652 - ignore_accuracy: 0.9116 - val_loss: 0.1060 - val_accuracy: 0.9647 - val_ignore_accuracy: 0.9107\n",
            "Epoch 12/20\n",
            "31196/31196 [==============================] - 17s 536us/step - loss: 0.0999 - accuracy: 0.9668 - ignore_accuracy: 0.9156 - val_loss: 0.1013 - val_accuracy: 0.9661 - val_ignore_accuracy: 0.9144\n",
            "Epoch 13/20\n",
            "31196/31196 [==============================] - 17s 538us/step - loss: 0.0952 - accuracy: 0.9683 - ignore_accuracy: 0.9195 - val_loss: 0.0970 - val_accuracy: 0.9676 - val_ignore_accuracy: 0.9181\n",
            "Epoch 14/20\n",
            "31196/31196 [==============================] - 17s 543us/step - loss: 0.0912 - accuracy: 0.9695 - ignore_accuracy: 0.9226 - val_loss: 0.0934 - val_accuracy: 0.9686 - val_ignore_accuracy: 0.9207\n",
            "Epoch 15/20\n",
            "31196/31196 [==============================] - 17s 544us/step - loss: 0.0877 - accuracy: 0.9707 - ignore_accuracy: 0.9256 - val_loss: 0.0907 - val_accuracy: 0.9694 - val_ignore_accuracy: 0.9228\n",
            "Epoch 16/20\n",
            "31196/31196 [==============================] - 17s 552us/step - loss: 0.0846 - accuracy: 0.9716 - ignore_accuracy: 0.9279 - val_loss: 0.0880 - val_accuracy: 0.9701 - val_ignore_accuracy: 0.9245\n",
            "Epoch 17/20\n",
            "31196/31196 [==============================] - 17s 556us/step - loss: 0.0819 - accuracy: 0.9725 - ignore_accuracy: 0.9302 - val_loss: 0.0854 - val_accuracy: 0.9711 - val_ignore_accuracy: 0.9271\n",
            "Epoch 18/20\n",
            "31196/31196 [==============================] - 17s 555us/step - loss: 0.0794 - accuracy: 0.9733 - ignore_accuracy: 0.9323 - val_loss: 0.0832 - val_accuracy: 0.9718 - val_ignore_accuracy: 0.9289\n",
            "Epoch 19/20\n",
            "31196/31196 [==============================] - 17s 553us/step - loss: 0.0772 - accuracy: 0.9741 - ignore_accuracy: 0.9341 - val_loss: 0.0814 - val_accuracy: 0.9725 - val_ignore_accuracy: 0.9306\n",
            "Epoch 20/20\n",
            "31196/31196 [==============================] - 17s 537us/step - loss: 0.0753 - accuracy: 0.9746 - ignore_accuracy: 0.9355 - val_loss: 0.0799 - val_accuracy: 0.9728 - val_ignore_accuracy: 0.9314\n"
          ],
          "name": "stdout"
        }
      ]
    },
    {
      "cell_type": "code",
      "metadata": {
        "id": "Ixm1FnawYP74",
        "colab_type": "code",
        "outputId": "5e35fd87-d66d-49f9-c680-b7c1774fde8c",
        "colab": {
          "base_uri": "https://localhost:8080/",
          "height": 1000
        }
      },
      "source": [
        "plot_model_history(model1,history1)"
      ],
      "execution_count": 0,
      "outputs": [
        {
          "output_type": "display_data",
          "data": {
            "image/png": "[encoded data removed]",
            "text/plain": [
              "<Figure size 720x576 with 1 Axes>"
            ]
          },
          "metadata": {
            "tags": [],
            "needs_background": "light"
          }
        },
        {
          "output_type": "display_data",
          "data": {
            "image/png": "[encoded data removed]",
            "text/plain": [
              "<Figure size 720x576 with 1 Axes>"
            ]
          },
          "metadata": {
            "tags": [],
            "needs_background": "light"
          }
        }
      ]
    },
    {
      "cell_type": "markdown",
      "metadata": {
        "id": "uFnc4HyC3YcO",
        "colab_type": "text"
      },
      "source": [
        "### Evaluation"
      ]
    },
    {
      "cell_type": "code",
      "metadata": {
        "id": "06K2GWEzLfJ1",
        "colab_type": "code",
        "outputId": "01ea9bc9-f215-4b04-9127-7cf86852980c",
        "colab": {
          "base_uri": "https://localhost:8080/",
          "height": 51
        }
      },
      "source": [
        "model1.evaluate(X_test,Y_test)"
      ],
      "execution_count": 0,
      "outputs": [
        {
          "output_type": "stream",
          "text": [
            "16713/16713 [==============================] - 5s 277us/step\n"
          ],
          "name": "stdout"
        },
        {
          "output_type": "execute_result",
          "data": {
            "text/plain": [
              "[0.07795659738387124, 0.9733669757843018, 0.9320371747016907]"
            ]
          },
          "metadata": {
            "tags": []
          },
          "execution_count": 69
        }
      ]
    },
    {
      "cell_type": "markdown",
      "metadata": {
        "id": "isTeq6jkL71i",
        "colab_type": "text"
      },
      "source": [
        "Loss of 0.08\n",
        "\n",
        "And accuracy is 93.2% which can surely be increased with larger number of epochs since there are no signs of any kind of variance"
      ]
    },
    {
      "cell_type": "code",
      "metadata": {
        "id": "cxiPK9-_RbXt",
        "colab_type": "code",
        "outputId": "a91eaf5c-7d26-4dfb-e78e-6f9357ffb195",
        "colab": {
          "base_uri": "https://localhost:8080/",
          "height": 88
        }
      },
      "source": [
        "tester = random.randint(0,len(sentence_dataset))\n",
        "print(sentence_dataset[tester])\n",
        "print(tag_dataset[tester])\n",
        "print(predict(model1,sentence_dataset[tester]))"
      ],
      "execution_count": 0,
      "outputs": [
        {
          "output_type": "stream",
          "text": [
            "['The', 'moment', 'simultaneously', 'revealed', 'that', 'in', 'the', 'crisis', 'our', 'policy', 'ran', 'counter', 'to', 'that', 'of', 'all', 'our', 'NATO', 'allies', ',', 'to', 'the', 'entire', 'Western', 'community', '.', '<eos>']\n",
            "['DET', 'NOUN', 'ADV', 'VERB', 'ADP', 'ADP', 'DET', 'NOUN', 'DET', 'NOUN', 'VERB', 'ADV', 'ADP', 'DET', 'ADP', 'PRT', 'DET', 'NOUN', 'NOUN', '.', 'ADP', 'DET', 'ADJ', 'ADJ', 'NOUN', '.', 'EOS']\n",
            "['DET', 'NOUN', 'ADV', 'VERB', 'ADP', 'ADP', 'DET', 'NOUN', 'DET', 'NOUN', 'VERB', 'NOUN', 'ADP', 'DET', 'ADP', 'PRT', 'DET', 'NOUN', 'NOUN', '.', 'PRT', 'DET', 'ADJ', 'ADJ', 'NOUN', '.', 'EOS']\n"
          ],
          "name": "stdout"
        }
      ]
    },
    {
      "cell_type": "code",
      "metadata": {
        "id": "tcGugmjKuWVa",
        "colab_type": "code",
        "colab": {}
      },
      "source": [
        "model1.save('model1.h5')"
      ],
      "execution_count": 0,
      "outputs": []
    },
    {
      "cell_type": "code",
      "metadata": {
        "id": "hrA2A-PNyRy1",
        "colab_type": "code",
        "outputId": "fe1da1a7-46a6-4238-f7d2-4716780756b7",
        "colab": {
          "base_uri": "https://localhost:8080/",
          "height": 51
        }
      },
      "source": [
        "from keras.models import load_model\n",
        "model = load_model('model1.h5',custom_objects={'ignore_accuracy':ignore_class_accuracy(9)})\n",
        "model.evaluate(X_test,Y_test)"
      ],
      "execution_count": 0,
      "outputs": [
        {
          "output_type": "stream",
          "text": [
            "16713/16713 [==============================] - 5s 297us/step\n"
          ],
          "name": "stdout"
        },
        {
          "output_type": "execute_result",
          "data": {
            "text/plain": [
              "[0.07795659738387124, 0.9733669757843018, 0.9320371747016907]"
            ]
          },
          "metadata": {
            "tags": []
          },
          "execution_count": 78
        }
      ]
    },
    {
      "cell_type": "markdown",
      "metadata": {
        "id": "Ju4rNya60I0z",
        "colab_type": "text"
      },
      "source": [
        "## **Bi-directional LSTM layer Model**"
      ]
    },
    {
      "cell_type": "code",
      "metadata": {
        "id": "7YYcWLPEWctQ",
        "colab_type": "code",
        "outputId": "85cf0bd3-08d8-4bfa-935d-3ef4456aa0ae",
        "colab": {
          "base_uri": "https://localhost:8080/",
          "height": 255
        }
      },
      "source": [
        "model2 = Sequential(name=\"Bi directional single layer LSTM\")\n",
        "model2.add(Embedding(input_dim=embedding_matrix.shape[0],output_dim=embedding_matrix.shape[1],\n",
        "                    weights=[embedding_matrix],trainable=False,input_length=MAX_LENGTH,name='embedding_1'))\n",
        "model2.add(Bidirectional(LSTM(64, return_sequences=True),name='bi_lstm_1'))\n",
        "model2.add(TimeDistributed(Dense(len(dict_of_tags),activation='softmax',name='dense_1'),name='timedist_1'))\n",
        "model2.compile(loss='categorical_crossentropy',\n",
        "              optimizer=Adam(),\n",
        "              metrics=['accuracy',ignore_class_accuracy(9)])\n",
        " \n",
        "model2.summary()"
      ],
      "execution_count": 0,
      "outputs": [
        {
          "output_type": "stream",
          "text": [
            "Model: \"Bi directional single layer LSTM\"\n",
            "_________________________________________________________________\n",
            "Layer (type)                 Output Shape              Param #   \n",
            "=================================================================\n",
            "embedding_1 (Embedding)      (None, 51, 50)            20000200  \n",
            "_________________________________________________________________\n",
            "bi_lstm_1 (Bidirectional)    (None, 51, 128)           58880     \n",
            "_________________________________________________________________\n",
            "timedist_1 (TimeDistributed) (None, 51, 14)            1806      \n",
            "=================================================================\n",
            "Total params: 20,060,886\n",
            "Trainable params: 60,686\n",
            "Non-trainable params: 20,000,200\n",
            "_________________________________________________________________\n"
          ],
          "name": "stdout"
        }
      ]
    },
    {
      "cell_type": "code",
      "metadata": {
        "id": "c6p0yOjYXDcu",
        "colab_type": "code",
        "outputId": "52f847f8-8b5e-4ccf-b706-cfa8fd1d8003",
        "colab": {
          "base_uri": "https://localhost:8080/",
          "height": 369
        }
      },
      "source": [
        "plot_model(model2)"
      ],
      "execution_count": 0,
      "outputs": [
        {
          "output_type": "execute_result",
          "data": {
            "image/png": "[encoded data removed]",
            "text/plain": [
              "<IPython.core.display.Image object>"
            ]
          },
          "metadata": {
            "tags": []
          },
          "execution_count": 80
        }
      ]
    },
    {
      "cell_type": "markdown",
      "metadata": {
        "id": "ym3EUpM13cnw",
        "colab_type": "text"
      },
      "source": [
        "### Training"
      ]
    },
    {
      "cell_type": "code",
      "metadata": {
        "id": "HRAdw8-CYXv2",
        "colab_type": "code",
        "outputId": "63bab414-0502-41ed-e8d2-4de215741d3c",
        "colab": {
          "base_uri": "https://localhost:8080/",
          "height": 734
        }
      },
      "source": [
        "history2 = model2.fit(X_train,Y_train,epochs=20,batch_size=128,validation_split=0.2,verbose=1)"
      ],
      "execution_count": 0,
      "outputs": [
        {
          "output_type": "stream",
          "text": [
            "Train on 31196 samples, validate on 7799 samples\n",
            "Epoch 1/20\n",
            "31196/31196 [==============================] - 23s 722us/step - loss: 0.6582 - accuracy: 0.8287 - ignore_accuracy: 0.5891 - val_loss: 0.2983 - val_accuracy: 0.9134 - val_ignore_accuracy: 0.7821\n",
            "Epoch 2/20\n",
            "31196/31196 [==============================] - 22s 712us/step - loss: 0.2369 - accuracy: 0.9297 - ignore_accuracy: 0.8215 - val_loss: 0.1996 - val_accuracy: 0.9396 - val_ignore_accuracy: 0.8476\n",
            "Epoch 3/20\n",
            "31196/31196 [==============================] - 23s 730us/step - loss: 0.1721 - accuracy: 0.9469 - ignore_accuracy: 0.8653 - val_loss: 0.1549 - val_accuracy: 0.9517 - val_ignore_accuracy: 0.8781\n",
            "Epoch 4/20\n",
            "31196/31196 [==============================] - 22s 721us/step - loss: 0.1384 - accuracy: 0.9571 - ignore_accuracy: 0.8911 - val_loss: 0.1294 - val_accuracy: 0.9597 - val_ignore_accuracy: 0.8981\n",
            "Epoch 5/20\n",
            "31196/31196 [==============================] - 23s 725us/step - loss: 0.1175 - accuracy: 0.9635 - ignore_accuracy: 0.9075 - val_loss: 0.1124 - val_accuracy: 0.9653 - val_ignore_accuracy: 0.9125\n",
            "Epoch 6/20\n",
            "31196/31196 [==============================] - 23s 723us/step - loss: 0.1029 - accuracy: 0.9682 - ignore_accuracy: 0.9192 - val_loss: 0.1002 - val_accuracy: 0.9689 - val_ignore_accuracy: 0.9214\n",
            "Epoch 7/20\n",
            "31196/31196 [==============================] - 22s 718us/step - loss: 0.0920 - accuracy: 0.9714 - ignore_accuracy: 0.9273 - val_loss: 0.0908 - val_accuracy: 0.9714 - val_ignore_accuracy: 0.9279\n",
            "Epoch 8/20\n",
            "31196/31196 [==============================] - 22s 708us/step - loss: 0.0836 - accuracy: 0.9739 - ignore_accuracy: 0.9339 - val_loss: 0.0844 - val_accuracy: 0.9734 - val_ignore_accuracy: 0.9330\n",
            "Epoch 9/20\n",
            "31196/31196 [==============================] - 22s 711us/step - loss: 0.0769 - accuracy: 0.9760 - ignore_accuracy: 0.9392 - val_loss: 0.0783 - val_accuracy: 0.9754 - val_ignore_accuracy: 0.9380\n",
            "Epoch 10/20\n",
            "31196/31196 [==============================] - 22s 708us/step - loss: 0.0713 - accuracy: 0.9778 - ignore_accuracy: 0.9436 - val_loss: 0.0734 - val_accuracy: 0.9765 - val_ignore_accuracy: 0.9408\n",
            "Epoch 11/20\n",
            "31196/31196 [==============================] - 22s 718us/step - loss: 0.0666 - accuracy: 0.9792 - ignore_accuracy: 0.9472 - val_loss: 0.0690 - val_accuracy: 0.9780 - val_ignore_accuracy: 0.9445\n",
            "Epoch 12/20\n",
            "31196/31196 [==============================] - 22s 720us/step - loss: 0.0626 - accuracy: 0.9804 - ignore_accuracy: 0.9503 - val_loss: 0.0656 - val_accuracy: 0.9790 - val_ignore_accuracy: 0.9471\n",
            "Epoch 13/20\n",
            "31196/31196 [==============================] - 22s 721us/step - loss: 0.0593 - accuracy: 0.9815 - ignore_accuracy: 0.9530 - val_loss: 0.0626 - val_accuracy: 0.9800 - val_ignore_accuracy: 0.9495\n",
            "Epoch 14/20\n",
            "31196/31196 [==============================] - 23s 723us/step - loss: 0.0563 - accuracy: 0.9824 - ignore_accuracy: 0.9553 - val_loss: 0.0606 - val_accuracy: 0.9805 - val_ignore_accuracy: 0.9508\n",
            "Epoch 15/20\n",
            "31196/31196 [==============================] - 22s 703us/step - loss: 0.0537 - accuracy: 0.9832 - ignore_accuracy: 0.9573 - val_loss: 0.0582 - val_accuracy: 0.9814 - val_ignore_accuracy: 0.9529\n",
            "Epoch 16/20\n",
            "31196/31196 [==============================] - 22s 699us/step - loss: 0.0516 - accuracy: 0.9838 - ignore_accuracy: 0.9589 - val_loss: 0.0568 - val_accuracy: 0.9816 - val_ignore_accuracy: 0.9535\n",
            "Epoch 17/20\n",
            "31196/31196 [==============================] - 22s 717us/step - loss: 0.0495 - accuracy: 0.9844 - ignore_accuracy: 0.9604 - val_loss: 0.0548 - val_accuracy: 0.9823 - val_ignore_accuracy: 0.9553\n",
            "Epoch 18/20\n",
            "31196/31196 [==============================] - 23s 729us/step - loss: 0.0477 - accuracy: 0.9851 - ignore_accuracy: 0.9620 - val_loss: 0.0535 - val_accuracy: 0.9827 - val_ignore_accuracy: 0.9563\n",
            "Epoch 19/20\n",
            "31196/31196 [==============================] - 22s 713us/step - loss: 0.0460 - accuracy: 0.9856 - ignore_accuracy: 0.9633 - val_loss: 0.0520 - val_accuracy: 0.9832 - val_ignore_accuracy: 0.9576\n",
            "Epoch 20/20\n",
            "31196/31196 [==============================] - 22s 719us/step - loss: 0.0445 - accuracy: 0.9861 - ignore_accuracy: 0.9647 - val_loss: 0.0510 - val_accuracy: 0.9834 - val_ignore_accuracy: 0.9580\n"
          ],
          "name": "stdout"
        }
      ]
    },
    {
      "cell_type": "code",
      "metadata": {
        "id": "T34un08RefOH",
        "colab_type": "code",
        "outputId": "25c0f3f3-b8f2-410a-ede4-e5452d9b7af8",
        "colab": {
          "base_uri": "https://localhost:8080/",
          "height": 1000
        }
      },
      "source": [
        "plot_model_history(model2,history2)"
      ],
      "execution_count": 0,
      "outputs": [
        {
          "output_type": "display_data",
          "data": {
            "image/png": "[encoded data removed]",
            "text/plain": [
              "<Figure size 720x576 with 1 Axes>"
            ]
          },
          "metadata": {
            "tags": [],
            "needs_background": "light"
          }
        },
        {
          "output_type": "display_data",
          "data": {
            "image/png": "[encoded data removed]",
            "text/plain": [
              "<Figure size 720x576 with 1 Axes>"
            ]
          },
          "metadata": {
            "tags": [],
            "needs_background": "light"
          }
        }
      ]
    },
    {
      "cell_type": "markdown",
      "metadata": {
        "id": "gdOoPEDz3fPf",
        "colab_type": "text"
      },
      "source": [
        "### Evaluation"
      ]
    },
    {
      "cell_type": "code",
      "metadata": {
        "id": "GSD99Y6Tboa3",
        "colab_type": "code",
        "outputId": "c1794fcd-e260-4877-b799-67f57f6688bc",
        "colab": {
          "base_uri": "https://localhost:8080/",
          "height": 51
        }
      },
      "source": [
        "model2.evaluate(X_test,Y_test)"
      ],
      "execution_count": 0,
      "outputs": [
        {
          "output_type": "stream",
          "text": [
            "16713/16713 [==============================] - 5s 325us/step\n"
          ],
          "name": "stdout"
        },
        {
          "output_type": "execute_result",
          "data": {
            "text/plain": [
              "[0.04907932035209945, 0.9842895865440369, 0.9599391222000122]"
            ]
          },
          "metadata": {
            "tags": []
          },
          "execution_count": 83
        }
      ]
    },
    {
      "cell_type": "markdown",
      "metadata": {
        "id": "PgVXcxKib9Ev",
        "colab_type": "text"
      },
      "source": [
        "Loss: 0.04\n",
        "\n",
        "\n",
        "Accuracy: 96%"
      ]
    },
    {
      "cell_type": "code",
      "metadata": {
        "id": "px26O5z_eo2h",
        "colab_type": "code",
        "outputId": "d0a5f760-8954-4c9c-f0a1-49c6e1b72b38",
        "colab": {
          "base_uri": "https://localhost:8080/",
          "height": 88
        }
      },
      "source": [
        "tester = random.randint(0,len(sentence_dataset))\n",
        "print(sentence_dataset[tester])\n",
        "print(tag_dataset[tester])\n",
        "print(predict(model2,sentence_dataset[tester]))"
      ],
      "execution_count": 0,
      "outputs": [
        {
          "output_type": "stream",
          "text": [
            "['However', ',', 'despite', 'the', 'insight', 'of', 'many', 'of', 'his', 'observations', ',', 'his', 'own', 'conclusions', 'are', 'open', 'to', 'suspicion', 'because', 'of', 'his', 'failure', 'to', 'employ', 'at', 'all', 'times', 'the', 'correct', 'research', 'methods', '.', '<eos>']\n",
            "['ADV', '.', 'ADP', 'DET', 'NOUN', 'ADP', 'ADJ', 'ADP', 'DET', 'NOUN', '.', 'DET', 'ADJ', 'NOUN', 'VERB', 'ADJ', 'ADP', 'NOUN', 'ADV', 'ADP', 'DET', 'NOUN', 'PRT', 'VERB', 'ADP', 'PRT', 'NOUN', 'DET', 'ADJ', 'NOUN', 'NOUN', '.', 'EOS']\n",
            "['ADV', '.', 'ADP', 'DET', 'NOUN', 'ADP', 'ADJ', 'ADP', 'DET', 'NOUN', '.', 'DET', 'ADJ', 'NOUN', 'VERB', 'ADJ', 'ADP', 'VERB', 'ADV', 'ADP', 'DET', 'NOUN', 'PRT', 'VERB', 'ADP', 'PRT', 'NOUN', 'DET', 'ADJ', 'NOUN', 'NOUN', '.', 'EOS']\n"
          ],
          "name": "stdout"
        }
      ]
    },
    {
      "cell_type": "code",
      "metadata": {
        "colab_type": "code",
        "id": "GUFXCgfQ51uC",
        "colab": {}
      },
      "source": [
        "model2.save('model2.h5')"
      ],
      "execution_count": 0,
      "outputs": []
    },
    {
      "cell_type": "code",
      "metadata": {
        "colab_type": "code",
        "outputId": "7aa3e5eb-cf68-4c26-b37c-d75bce590ab5",
        "id": "3b9fapdK51uQ",
        "colab": {
          "base_uri": "https://localhost:8080/",
          "height": 51
        }
      },
      "source": [
        "from keras.models import load_model\n",
        "model = load_model('model2.h5',custom_objects={'ignore_accuracy':ignore_class_accuracy(9)})\n",
        "model.evaluate(X_test,Y_test)"
      ],
      "execution_count": 0,
      "outputs": [
        {
          "output_type": "stream",
          "text": [
            "16713/16713 [==============================] - 5s 314us/step\n"
          ],
          "name": "stdout"
        },
        {
          "output_type": "execute_result",
          "data": {
            "text/plain": [
              "[0.04907932035209945, 0.9842895865440369, 0.9599391222000122]"
            ]
          },
          "metadata": {
            "tags": []
          },
          "execution_count": 86
        }
      ]
    },
    {
      "cell_type": "markdown",
      "metadata": {
        "id": "wgPF0dUI2Bj2",
        "colab_type": "text"
      },
      "source": [
        "## **Embeddings + Features initiated Bidirectional LSTM model**"
      ]
    },
    {
      "cell_type": "markdown",
      "metadata": {
        "id": "JQuGz9Hl2WhO",
        "colab_type": "text"
      },
      "source": [
        "### Building the inputs for the model"
      ]
    },
    {
      "cell_type": "code",
      "metadata": {
        "id": "ac2S7STCXU_C",
        "colab_type": "code",
        "outputId": "a1cc1a9d-3ab8-4e51-ef5f-e7bfaba87f66",
        "colab": {
          "base_uri": "https://localhost:8080/",
          "height": 238
        }
      },
      "source": [
        "sentence = ['Hi','I','am','12','year','old','?','HOW','CAN','12ou','DO','THIS','!?!']\n",
        "print(get_features(sentence))"
      ],
      "execution_count": 0,
      "outputs": [
        {
          "output_type": "stream",
          "text": [
            "[[1 0 0 1 0 0]\n",
            " [0 0 1 1 0 0]\n",
            " [0 0 0 0 0 0]\n",
            " [0 0 0 0 1 0]\n",
            " [0 0 0 0 0 0]\n",
            " [0 0 0 0 0 0]\n",
            " [0 0 0 0 0 1]\n",
            " [0 0 1 1 0 0]\n",
            " [0 0 1 1 0 0]\n",
            " [0 0 0 0 1 0]\n",
            " [0 0 1 1 0 0]\n",
            " [0 0 1 1 0 0]\n",
            " [0 1 0 0 0 1]]\n"
          ],
          "name": "stdout"
        }
      ]
    },
    {
      "cell_type": "code",
      "metadata": {
        "colab_type": "code",
        "id": "eMaAiF5Blw2T",
        "outputId": "5f8caabb-2439-4c5c-8310-a82c293d3646",
        "colab": {
          "base_uri": "https://localhost:8080/",
          "height": 34
        }
      },
      "source": [
        "feature_map = []\n",
        "for sentence in padded_sent_dataset:\n",
        "    feature_map.append(get_features(sentence))\n",
        "\n",
        "feature_map = np.asarray(feature_map)\n",
        "print(feature_map.shape)"
      ],
      "execution_count": 0,
      "outputs": [
        {
          "output_type": "stream",
          "text": [
            "(55708, 51, 6)\n"
          ],
          "name": "stdout"
        }
      ]
    },
    {
      "cell_type": "code",
      "metadata": {
        "id": "-Dvfb5F0T3KG",
        "colab_type": "code",
        "outputId": "981705cb-7419-4ff5-ee23-b4dd5a2e9cf1",
        "colab": {
          "base_uri": "https://localhost:8080/",
          "height": 34
        }
      },
      "source": [
        "# Model 3\n",
        "\n",
        "# Unshuffled Split\n",
        "X_train,X_test,Y_train,Y_test = train_test_split(dataset,output_dataset,test_size=0.3)\n",
        "print(X_train.shape,X_test.shape,Y_train.shape,Y_test.shape)"
      ],
      "execution_count": 0,
      "outputs": [
        {
          "output_type": "stream",
          "text": [
            "(38995, 51) (16713, 51) (38995, 51, 14) (16713, 51, 14)\n"
          ],
          "name": "stdout"
        }
      ]
    },
    {
      "cell_type": "code",
      "metadata": {
        "id": "Xq53qx9YfLBu",
        "colab_type": "code",
        "outputId": "d7855da0-3140-4d66-cac2-90fb643b19fb",
        "colab": {
          "base_uri": "https://localhost:8080/",
          "height": 34
        }
      },
      "source": [
        "(train_feature,test_feature) = feature_map[:X_train.shape[0]],feature_map[X_train.shape[0]:]\n",
        "print(train_feature.shape,test_feature.shape)"
      ],
      "execution_count": 0,
      "outputs": [
        {
          "output_type": "stream",
          "text": [
            "(38995, 51, 6) (16713, 51, 6)\n"
          ],
          "name": "stdout"
        }
      ]
    },
    {
      "cell_type": "markdown",
      "metadata": {
        "id": "d6CLpQur8Bia",
        "colab_type": "text"
      },
      "source": [
        "### Defining Model"
      ]
    },
    {
      "cell_type": "code",
      "metadata": {
        "id": "uNvf-PYzh22y",
        "colab_type": "code",
        "outputId": "2fb0cbbb-8b94-4509-8fc1-cc20e3b19d17",
        "colab": {
          "base_uri": "https://localhost:8080/",
          "height": 374
        }
      },
      "source": [
        "# Model3 architecture\n",
        "\n",
        "feature_input = Input(shape=(MAX_LENGTH,feature_map.shape[2]),name='features')\n",
        "sequence_input = Input(shape=(MAX_LENGTH,),name='sequence')\n",
        "\n",
        "A = Embedding(input_dim=embedding_matrix.shape[0],output_dim=embedding_matrix.shape[1],\n",
        "                    weights=[embedding_matrix],trainable=False,input_length=MAX_LENGTH,name='embedding')(sequence_input)\n",
        "A = Model(inputs=sequence_input, outputs=A)\n",
        "\n",
        "M = concatenate([A.output,feature_input])\n",
        "M = Bidirectional(LSTM(64, return_sequences=True),name='bi_lstm')(M)\n",
        "M = TimeDistributed(Dense(len(dict_of_tags),activation='softmax',name='dense_1'),name='timedist')(M)\n",
        "model3 = Model(inputs=[A.input, feature_input], outputs=M)\n",
        "\n",
        "model3.compile(loss='categorical_crossentropy',\n",
        "              optimizer=Adam(),\n",
        "              metrics=['accuracy',ignore_class_accuracy(9)])\n",
        "\n",
        "model3.summary()"
      ],
      "execution_count": 0,
      "outputs": [
        {
          "output_type": "stream",
          "text": [
            "Model: \"model_2\"\n",
            "__________________________________________________________________________________________________\n",
            "Layer (type)                    Output Shape         Param #     Connected to                     \n",
            "==================================================================================================\n",
            "sequence (InputLayer)           (None, 51)           0                                            \n",
            "__________________________________________________________________________________________________\n",
            "embedding (Embedding)           (None, 51, 50)       20000200    sequence[0][0]                   \n",
            "__________________________________________________________________________________________________\n",
            "features (InputLayer)           (None, 51, 6)        0                                            \n",
            "__________________________________________________________________________________________________\n",
            "concatenate_1 (Concatenate)     (None, 51, 56)       0           embedding[0][0]                  \n",
            "                                                                 features[0][0]                   \n",
            "__________________________________________________________________________________________________\n",
            "bi_lstm (Bidirectional)         (None, 51, 128)      61952       concatenate_1[0][0]              \n",
            "__________________________________________________________________________________________________\n",
            "timedist (TimeDistributed)      (None, 51, 14)       1806        bi_lstm[0][0]                    \n",
            "==================================================================================================\n",
            "Total params: 20,063,958\n",
            "Trainable params: 63,758\n",
            "Non-trainable params: 20,000,200\n",
            "__________________________________________________________________________________________________\n"
          ],
          "name": "stdout"
        }
      ]
    },
    {
      "cell_type": "code",
      "metadata": {
        "id": "jY7_2wEeh7gF",
        "colab_type": "code",
        "outputId": "8899d20b-c28b-4e97-a2d0-09ee044e3841",
        "colab": {
          "base_uri": "https://localhost:8080/",
          "height": 466
        }
      },
      "source": [
        "plot_model(model3)"
      ],
      "execution_count": 0,
      "outputs": [
        {
          "output_type": "execute_result",
          "data": {
            "image/png": "[encoded data removed]",
            "text/plain": [
              "<IPython.core.display.Image object>"
            ]
          },
          "metadata": {
            "tags": []
          },
          "execution_count": 93
        }
      ]
    },
    {
      "cell_type": "markdown",
      "metadata": {
        "id": "LC1yXBFa3I_Y",
        "colab_type": "text"
      },
      "source": [
        "### Training"
      ]
    },
    {
      "cell_type": "code",
      "metadata": {
        "colab_type": "code",
        "outputId": "c79c5afb-62da-4980-b6a9-c8e09b95fa3e",
        "id": "ZdrCqelIx99R",
        "colab": {
          "base_uri": "https://localhost:8080/",
          "height": 734
        }
      },
      "source": [
        "history3 = model3.fit([X_train,train_feature],Y_train,epochs=20,batch_size=128,validation_split=0.2,verbose=1)"
      ],
      "execution_count": 0,
      "outputs": [
        {
          "output_type": "stream",
          "text": [
            "Train on 31196 samples, validate on 7799 samples\n",
            "Epoch 1/20\n",
            "31196/31196 [==============================] - 23s 742us/step - loss: 0.6435 - accuracy: 0.8279 - ignore_accuracy: 0.5873 - val_loss: 0.3062 - val_accuracy: 0.9115 - val_ignore_accuracy: 0.7792\n",
            "Epoch 2/20\n",
            "31196/31196 [==============================] - 23s 721us/step - loss: 0.2426 - accuracy: 0.9285 - ignore_accuracy: 0.8187 - val_loss: 0.2017 - val_accuracy: 0.9392 - val_ignore_accuracy: 0.8472\n",
            "Epoch 3/20\n",
            "31196/31196 [==============================] - 23s 730us/step - loss: 0.1724 - accuracy: 0.9476 - ignore_accuracy: 0.8669 - val_loss: 0.1532 - val_accuracy: 0.9529 - val_ignore_accuracy: 0.8818\n",
            "Epoch 4/20\n",
            "31196/31196 [==============================] - 23s 729us/step - loss: 0.1350 - accuracy: 0.9587 - ignore_accuracy: 0.8951 - val_loss: 0.1250 - val_accuracy: 0.9619 - val_ignore_accuracy: 0.9043\n",
            "Epoch 5/20\n",
            "31196/31196 [==============================] - 23s 734us/step - loss: 0.1131 - accuracy: 0.9653 - ignore_accuracy: 0.9118 - val_loss: 0.1077 - val_accuracy: 0.9671 - val_ignore_accuracy: 0.9174\n",
            "Epoch 6/20\n",
            "31196/31196 [==============================] - 23s 739us/step - loss: 0.0989 - accuracy: 0.9694 - ignore_accuracy: 0.9223 - val_loss: 0.0961 - val_accuracy: 0.9702 - val_ignore_accuracy: 0.9252\n",
            "Epoch 7/20\n",
            "31196/31196 [==============================] - 23s 736us/step - loss: 0.0887 - accuracy: 0.9722 - ignore_accuracy: 0.9293 - val_loss: 0.0872 - val_accuracy: 0.9725 - val_ignore_accuracy: 0.9312\n",
            "Epoch 8/20\n",
            "31196/31196 [==============================] - 22s 719us/step - loss: 0.0807 - accuracy: 0.9746 - ignore_accuracy: 0.9355 - val_loss: 0.0802 - val_accuracy: 0.9746 - val_ignore_accuracy: 0.9364\n",
            "Epoch 9/20\n",
            "31196/31196 [==============================] - 22s 718us/step - loss: 0.0743 - accuracy: 0.9766 - ignore_accuracy: 0.9405 - val_loss: 0.0749 - val_accuracy: 0.9764 - val_ignore_accuracy: 0.9410\n",
            "Epoch 10/20\n",
            "31196/31196 [==============================] - 22s 721us/step - loss: 0.0692 - accuracy: 0.9782 - ignore_accuracy: 0.9447 - val_loss: 0.0706 - val_accuracy: 0.9777 - val_ignore_accuracy: 0.9441\n",
            "Epoch 11/20\n",
            "31196/31196 [==============================] - 23s 746us/step - loss: 0.0650 - accuracy: 0.9796 - ignore_accuracy: 0.9483 - val_loss: 0.0668 - val_accuracy: 0.9789 - val_ignore_accuracy: 0.9470\n",
            "Epoch 12/20\n",
            "31196/31196 [==============================] - 23s 732us/step - loss: 0.0612 - accuracy: 0.9807 - ignore_accuracy: 0.9511 - val_loss: 0.0638 - val_accuracy: 0.9798 - val_ignore_accuracy: 0.9494\n",
            "Epoch 13/20\n",
            "31196/31196 [==============================] - 23s 733us/step - loss: 0.0581 - accuracy: 0.9817 - ignore_accuracy: 0.9536 - val_loss: 0.0614 - val_accuracy: 0.9806 - val_ignore_accuracy: 0.9514\n",
            "Epoch 14/20\n",
            "31196/31196 [==============================] - 23s 729us/step - loss: 0.0554 - accuracy: 0.9826 - ignore_accuracy: 0.9557 - val_loss: 0.0591 - val_accuracy: 0.9812 - val_ignore_accuracy: 0.9529\n",
            "Epoch 15/20\n",
            "31196/31196 [==============================] - 23s 727us/step - loss: 0.0529 - accuracy: 0.9833 - ignore_accuracy: 0.9577 - val_loss: 0.0570 - val_accuracy: 0.9818 - val_ignore_accuracy: 0.9544\n",
            "Epoch 16/20\n",
            "31196/31196 [==============================] - 22s 720us/step - loss: 0.0507 - accuracy: 0.9840 - ignore_accuracy: 0.9593 - val_loss: 0.0555 - val_accuracy: 0.9823 - val_ignore_accuracy: 0.9557\n",
            "Epoch 17/20\n",
            "31196/31196 [==============================] - 23s 722us/step - loss: 0.0487 - accuracy: 0.9846 - ignore_accuracy: 0.9609 - val_loss: 0.0539 - val_accuracy: 0.9828 - val_ignore_accuracy: 0.9567\n",
            "Epoch 18/20\n",
            "31196/31196 [==============================] - 23s 725us/step - loss: 0.0469 - accuracy: 0.9852 - ignore_accuracy: 0.9624 - val_loss: 0.0525 - val_accuracy: 0.9832 - val_ignore_accuracy: 0.9579\n",
            "Epoch 19/20\n",
            "31196/31196 [==============================] - 23s 734us/step - loss: 0.0452 - accuracy: 0.9858 - ignore_accuracy: 0.9639 - val_loss: 0.0513 - val_accuracy: 0.9836 - val_ignore_accuracy: 0.9588\n",
            "Epoch 20/20\n",
            "31196/31196 [==============================] - 23s 733us/step - loss: 0.0437 - accuracy: 0.9862 - ignore_accuracy: 0.9649 - val_loss: 0.0502 - val_accuracy: 0.9839 - val_ignore_accuracy: 0.9596\n"
          ],
          "name": "stdout"
        }
      ]
    },
    {
      "cell_type": "code",
      "metadata": {
        "colab_type": "code",
        "outputId": "3b78e209-fd1b-4286-9d24-e97afdf438a3",
        "id": "ZUjMaZnox99r",
        "colab": {
          "base_uri": "https://localhost:8080/",
          "height": 1000
        }
      },
      "source": [
        "plot_model_history(model3,history3)"
      ],
      "execution_count": 0,
      "outputs": [
        {
          "output_type": "display_data",
          "data": {
            "image/png": "[encoded data removed]",
            "text/plain": [
              "<Figure size 720x576 with 1 Axes>"
            ]
          },
          "metadata": {
            "tags": [],
            "needs_background": "light"
          }
        },
        {
          "output_type": "display_data",
          "data": {
            "image/png": "[encoded data removed]",
            "text/plain": [
              "<Figure size 720x576 with 1 Axes>"
            ]
          },
          "metadata": {
            "tags": [],
            "needs_background": "light"
          }
        }
      ]
    },
    {
      "cell_type": "markdown",
      "metadata": {
        "id": "Ga2w_yPY3Nt7",
        "colab_type": "text"
      },
      "source": [
        "### Evaluation"
      ]
    },
    {
      "cell_type": "code",
      "metadata": {
        "colab_type": "code",
        "outputId": "389c66c9-0976-4751-8b73-f0c4318774e5",
        "id": "YKRqNK-1x99i",
        "colab": {
          "base_uri": "https://localhost:8080/",
          "height": 51
        }
      },
      "source": [
        "model3.evaluate([X_test,test_feature],Y_test)"
      ],
      "execution_count": 0,
      "outputs": [
        {
          "output_type": "stream",
          "text": [
            "16713/16713 [==============================] - 5s 315us/step\n"
          ],
          "name": "stdout"
        },
        {
          "output_type": "execute_result",
          "data": {
            "text/plain": [
              "[0.05046312431448478, 0.9838472604751587, 0.9587541222572327]"
            ]
          },
          "metadata": {
            "tags": []
          },
          "execution_count": 96
        }
      ]
    },
    {
      "cell_type": "code",
      "metadata": {
        "colab_type": "code",
        "outputId": "0ba87ba9-2166-43b0-c4f7-2583615ecc49",
        "id": "cZhHq72Gx99z",
        "colab": {
          "base_uri": "https://localhost:8080/",
          "height": 88
        }
      },
      "source": [
        "tester = random.randint(0,len(sentence_dataset))\n",
        "print(sentence_dataset[tester])\n",
        "print(tag_dataset[tester])\n",
        "print(predict_v2(model3,sentence_dataset[tester],tester))"
      ],
      "execution_count": 0,
      "outputs": [
        {
          "output_type": "stream",
          "text": [
            "['The', 'Institute', 'also', 'planned', 'to', 'furnish', 'a', 'regular', 'series', 'of', 'articles', ',', 'beginning', 'in', 'the', 'fall', 'of', '1960', ',', 'on', 'its', 'more', 'significant', 'Scientific', 'Exhibits', '.', '<eos>']\n",
            "['DET', 'NOUN', 'ADV', 'VERB', 'PRT', 'VERB', 'DET', 'ADJ', 'NOUN', 'ADP', 'NOUN', '.', 'VERB', 'ADP', 'DET', 'NOUN', 'ADP', 'NUM', '.', 'ADP', 'DET', 'ADV', 'ADJ', 'ADJ', 'NOUN', '.', 'EOS']\n",
            "['DET', 'NOUN', 'ADV', 'VERB', 'PRT', 'VERB', 'DET', 'ADJ', 'NOUN', 'ADP', 'NOUN', '.', 'VERB', 'ADP', 'DET', 'NOUN', 'ADP', 'NUM', '.', 'ADP', 'DET', 'ADV', 'ADJ', 'ADJ', 'NOUN', '.', 'EOS']\n"
          ],
          "name": "stdout"
        }
      ]
    },
    {
      "cell_type": "code",
      "metadata": {
        "colab_type": "code",
        "id": "fAmohc_-6Qad",
        "colab": {}
      },
      "source": [
        "model3.save('model3.h5')"
      ],
      "execution_count": 0,
      "outputs": []
    },
    {
      "cell_type": "code",
      "metadata": {
        "colab_type": "code",
        "outputId": "bc96db87-3512-4cfb-f949-1eebe687d185",
        "id": "zaaqPD3n6Qaj",
        "colab": {
          "base_uri": "https://localhost:8080/",
          "height": 51
        }
      },
      "source": [
        "from keras.models import load_model\n",
        "model = load_model('model3.h5',custom_objects={'ignore_accuracy':ignore_class_accuracy(9)})\n",
        "model.evaluate([X_test,test_feature],Y_test)"
      ],
      "execution_count": 0,
      "outputs": [
        {
          "output_type": "stream",
          "text": [
            "16713/16713 [==============================] - 5s 323us/step\n"
          ],
          "name": "stdout"
        },
        {
          "output_type": "execute_result",
          "data": {
            "text/plain": [
              "[0.05046312431448478, 0.9838472604751587, 0.9587541222572327]"
            ]
          },
          "metadata": {
            "tags": []
          },
          "execution_count": 99
        }
      ]
    }
  ]
}